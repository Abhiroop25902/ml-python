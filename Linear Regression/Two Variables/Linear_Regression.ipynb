{
  "nbformat": 4,
  "nbformat_minor": 0,
  "metadata": {
    "colab": {
      "name": "Linear Regression.ipynb",
      "provenance": [],
      "toc_visible": true
    },
    "kernelspec": {
      "name": "python3",
      "display_name": "Python 3",
      "language": "python"
    }
  },
  "cells": [
    {
      "cell_type": "code",
      "metadata": {
        "id": "XS1Z478h9WNM"
      },
      "source": [
        "import numpy as np\r\n",
        "import matplotlib.pyplot as plt\r\n",
        "import time"
      ],
      "execution_count": null,
      "outputs": []
    },
    {
      "cell_type": "markdown",
      "metadata": {
        "id": "f3l5IUhwRHNZ"
      },
      "source": [
        "## Hypothesis function\r\n",
        "\r\n",
        "Outputs Y, Given X, by parameter &theta;\r\n",
        "\r\n",
        "1. In Vector Form:\r\n",
        "\r\n",
        "![](https://github.com/Abhiroop25902/ml-python/blob/main/Linear%20Regression/Two%20Variables/Sources/hypothesis.jpg?raw=1)\r\n",
        "\r\n",
        "-   m -> number of elements in the dataset\r\n",
        "-   n -> no. of features of a data (in this example 2)\r\n",
        "-   X -> m x (n+1) matrix\r\n",
        "    -    +1 as we have concatenated 1 so as to keep &theta;<sub>0</sub> as constant\r\n",
        "-   &theta; -> (n+1) x 1 matrix\r\n",
        "-   Outputs mx1 matrix\r\n",
        "\r\n",
        "Vector Form is implemented here for faster Operation\r\n",
        "\r\n",
        "\r\n"
      ]
    },
    {
      "cell_type": "code",
      "metadata": {
        "id": "TA_QPYgR9XzD"
      },
      "source": [
        "def hypothesis(x, theta):\r\n",
        "    '''calculates the hypothesis function'''\r\n",
        "    return np.matmul(x, theta)"
      ],
      "execution_count": null,
      "outputs": []
    },
    {
      "cell_type": "markdown",
      "metadata": {
        "id": "OZxdmqDTR1D1"
      },
      "source": [
        "## Cost Function\r\n",
        "\r\n",
        "This essentially calculates the distance between what we need the line to be, and what it actually is:\r\n",
        "\r\n",
        "1. Vector Form for faster implementation\r\n",
        "    -   m -> number of elements in the dataset\r\n",
        "    -   h(&theta;, X) and Y -> mx1 matrix\r\n",
        "    -   Outputs 1x1 matrix\r\n",
        "\r\n",
        "![](https://github.com/Abhiroop25902/ml-python/blob/main/Linear%20Regression/One%20Variable/Sources/cost_function_matrix.jpg?raw=1)"
      ]
    },
    {
      "cell_type": "code",
      "metadata": {
        "id": "7SDFhVRE9Y2N"
      },
      "source": [
        "def compute_cost(x, y, theta):\r\n",
        "    '''outputs the cost function'''\r\n",
        "    m = len(y)\r\n",
        "    error = hypothesis(x, theta) - y\r\n",
        "    error_square_summed = np.matmul(np.transpose(error), error)\r\n",
        "    return 1/(2*m)*error_square_summed"
      ],
      "execution_count": null,
      "outputs": []
    },
    {
      "cell_type": "markdown",
      "metadata": {
        "id": "TaMrNg2ZTNwB"
      },
      "source": [
        "## Gradient Descent\r\n",
        "\r\n",
        "Gradient Descent is an iterative way through which we can minimize the cost function J(&theta;,x), which essentially depends on the values of &theta;<sub>0</sub> and &theta;<sub>1</sub>\r\n",
        "\r\n",
        "This algorithm iteratively minimizes J(&theta; ,x) to reach it's minimum possible value\r\n",
        "\r\n",
        "- Vector Implementation to speed up Algorithm: \r\n",
        "    -   m -> dataset size\r\n",
        "    -   n -> no. of features of a data (in this example 2)\r\n",
        "    -   X -> m x (n+1) matrix\r\n",
        "    -   h(&theta;, X) and Y -> mx1 matrix\r\n",
        "    -   &theta; -> (n+1) x 1 matrix\r\n",
        "\r\n",
        "![](https://github.com/Abhiroop25902/ml-python/blob/main/Linear%20Regression/One%20Variable/Sources/gradient_descent_matrix.jpg?raw=1)\r\n",
        "\r\n",
        "\r\n"
      ]
    },
    {
      "cell_type": "code",
      "metadata": {
        "id": "Pf-3GBGY9aG7"
      },
      "source": [
        "def gradient_descent(x, y, theta, alpha, num_iter):\r\n",
        "    '''Performs Gradient Descent and outputs minimized theta and history of cost_functions'''\r\n",
        "    m = len(y)\r\n",
        "    J_history = np.zeros((num_iter, 1))\r\n",
        "\r\n",
        "    for iter in range(num_iter):\r\n",
        "        h = hypothesis(x, theta)\r\n",
        "        error = h-y\r\n",
        "        partial_derivative = 1/m * np.matmul(np.transpose(x), error)\r\n",
        "        theta = theta - alpha*partial_derivative\r\n",
        "\r\n",
        "        J_history[iter] = compute_cost(x, y, theta)\r\n",
        "\r\n",
        "    return theta, J_history"
      ],
      "execution_count": null,
      "outputs": []
    },
    {
      "cell_type": "markdown",
      "metadata": {
        "id": "M4H32ToFd1Rr"
      },
      "source": [
        "# Normalization\r\n",
        "\r\n",
        "As Features of X might be skewed, it is safer to normalize the features of X to same range, this reduces error, and also make learning faster\r\n",
        "\r\n",
        "![](https://github.com/Abhiroop25902/ml-python/blob/main/Linear%20Regression/Two%20Variables/Sources/Normalization.jpg?raw=1)\r\n",
        "\r\n",
        "-  X -> m x n matrix <mark>(note there is no +1)</mark>\r\n",
        "-  &mu; -> 1 x n matrix, mean of the features of X \r\n",
        "-  &sigma; -> 1 x n matrix, standard deviation of the features of X\r\n",
        "\r\n",
        "This essentially converts all values of a feature in the range (-1,1)\r\n",
        "\r\n"
      ]
    },
    {
      "cell_type": "code",
      "metadata": {
        "id": "U5HYp1Qwd2Rh"
      },
      "source": [
        "def featureNormalize(X):\r\n",
        "    mu = np.mean(X,axis=0)\r\n",
        "    sigma = np.std(X,axis=0)\r\n",
        "    X_norm = (X-mu)/sigma\r\n",
        "    return X_norm,mu,sigma"
      ],
      "execution_count": null,
      "outputs": []
    },
    {
      "cell_type": "markdown",
      "metadata": {
        "id": "DPJsLfqsT7dn"
      },
      "source": [
        "#Predict \r\n",
        " \r\n",
        " uses hypothesis() to predict value of new input"
      ]
    },
    {
      "cell_type": "code",
      "metadata": {
        "id": "OLJ8t9oo9cSr"
      },
      "source": [
        "def predict(value, minimized_theta,mu,sigma):\r\n",
        "    value = np.array(value)\r\n",
        "    mu = np.array(mu)\r\n",
        "    sigma = np.array(sigma)\r\n",
        "\r\n",
        "\r\n",
        "    mu = mu.reshape(1,mu.shape[0])\r\n",
        "    sigma = sigma.reshape(1,sigma.shape[0])\r\n",
        "\r\n",
        "    normalized_value =  (value -mu)/sigma\r\n",
        "    one = np.array([[1]])\r\n",
        "    x_array = np.concatenate((one,normalized_value),axis=1)\r\n",
        "    return hypothesis(x_array,minimized_theta)"
      ],
      "execution_count": null,
      "outputs": []
    },
    {
      "cell_type": "markdown",
      "metadata": {
        "id": "e0J0HCqGUb-c"
      },
      "source": [
        "# Processing\r\n",
        "Loading Data from `ex1data2.txt`\r\n",
        "\r\n",
        "The `ex1data2.txt` contains a training set of housing prices in Port-\r\n",
        "land, Oregon. The first column is the size of the house (in square feet), the second column is the number of bedrooms, and the third column is the price of the house."
      ]
    },
    {
      "cell_type": "code",
      "metadata": {
        "id": "3xf5-zeBNwlD"
      },
      "source": [
        "data_path = \"./ex1data2.txt\"\r\n",
        "data = np.loadtxt(data_path, delimiter=',')"
      ],
      "execution_count": null,
      "outputs": []
    },
    {
      "cell_type": "markdown",
      "metadata": {
        "id": "HQs8_rDkUweS"
      },
      "source": [
        "Extracting Poulation and Profits from data"
      ]
    },
    {
      "cell_type": "code",
      "metadata": {
        "id": "RbaWL3HnUrWT"
      },
      "source": [
        "# first value is independent variable x, second is dependant y\r\n",
        "X= data[:, 0:2]\r\n",
        "Y = data[:, 2]"
      ],
      "execution_count": null,
      "outputs": []
    },
    {
      "cell_type": "markdown",
      "metadata": {
        "id": "-awhne5gcMYL"
      },
      "source": [
        "Printing Some Data Points"
      ]
    },
    {
      "cell_type": "code",
      "metadata": {
        "id": "vR9XZg6_cRgD",
        "colab": {
          "base_uri": "https://localhost:8080/"
        },
        "outputId": "dfa116f3-fe17-43fa-b6e7-5f226cbcefd0"
      },
      "source": [
        "print(\"First 10 examples from the dataset\")\r\n",
        "\r\n",
        "for iter in range(10):\r\n",
        "    print(f\"X = {X[iter]}, Y = {Y[iter]}\")"
      ],
      "execution_count": null,
      "outputs": [
        {
          "output_type": "stream",
          "text": [
            "First 10 examples from the dataset\n",
            "X = [2104.    3.], Y = 399900.0\n",
            "X = [1600.    3.], Y = 329900.0\n",
            "X = [2400.    3.], Y = 369000.0\n",
            "X = [1416.    2.], Y = 232000.0\n",
            "X = [3000.    4.], Y = 539900.0\n",
            "X = [1985.    4.], Y = 299900.0\n",
            "X = [1534.    3.], Y = 314900.0\n",
            "X = [1427.    3.], Y = 198999.0\n",
            "X = [1380.    3.], Y = 212000.0\n",
            "X = [1494.    3.], Y = 242500.0\n"
          ],
          "name": "stdout"
        }
      ]
    },
    {
      "cell_type": "markdown",
      "metadata": {
        "id": "HFpt6IiAdOo7"
      },
      "source": [
        "By looking in the value of X, we see that value are not in same range, so we normalize the value of X so that the learing becomes more accurate and fast\r\n",
        "\r\n",
        "while predicting, model will give normalized output, we need to de-normalize it"
      ]
    },
    {
      "cell_type": "code",
      "metadata": {
        "id": "k3d9Myw-ePXR"
      },
      "source": [
        "X,mu,sigma = featureNormalize(X)"
      ],
      "execution_count": null,
      "outputs": []
    },
    {
      "cell_type": "markdown",
      "metadata": {
        "id": "4Gbzc4wAlpDr"
      },
      "source": [
        "adding ones to X and changing y from vector to 2D array"
      ]
    },
    {
      "cell_type": "code",
      "metadata": {
        "id": "hoGuA3KtlrQD",
        "colab": {
          "base_uri": "https://localhost:8080/"
        },
        "outputId": "0811004f-6daa-4d19-9352-bb526e411e69"
      },
      "source": [
        "#adding ones to X\r\n",
        "dataset_size = X.shape[0]\r\n",
        "ones = np.ones(dataset_size).reshape(dataset_size,1)\r\n",
        "X = np.concatenate((ones,X),axis=1)\r\n",
        "\r\n",
        "Y = Y.reshape(dataset_size,1)\r\n",
        "\r\n",
        "print(X.shape)"
      ],
      "execution_count": null,
      "outputs": [
        {
          "output_type": "stream",
          "text": [
            "(47, 3)\n"
          ],
          "name": "stdout"
        }
      ]
    },
    {
      "cell_type": "markdown",
      "metadata": {
        "id": "IudQt6i-WTdB"
      },
      "source": [
        "Running Gradient Descent"
      ]
    },
    {
      "cell_type": "code",
      "metadata": {
        "id": "k-UxmwVwWM3K",
        "colab": {
          "base_uri": "https://localhost:8080/"
        },
        "outputId": "6dc56989-fa52-41b3-f1e1-f353057291e5"
      },
      "source": [
        "print(\"Running Gradient Descent ...\\n\")\r\n",
        "alpha = 1\r\n",
        "num_iter = 10\r\n",
        "theta = np.zeros((X.shape[1],1))\r\n",
        "minimized_theta, J_history = gradient_descent(X, Y, theta, alpha, num_iter)\r\n",
        "\r\n",
        "print(\"Theta found by gradient descent:\")\r\n",
        "print(minimized_theta)\r\n"
      ],
      "execution_count": null,
      "outputs": [
        {
          "output_type": "stream",
          "text": [
            "Running Gradient Descent ...\n",
            "\n",
            "Theta found by gradient descent:\n",
            "[[340412.65957447]\n",
            " [109116.02965272]\n",
            " [ -6558.41402464]]\n"
          ],
          "name": "stdout"
        }
      ]
    },
    {
      "cell_type": "markdown",
      "metadata": {
        "id": "LSepBauvWcOx"
      },
      "source": [
        "Plotting Value of J during Gradient Descent (This should Decrease with Epochs)"
      ]
    },
    {
      "cell_type": "code",
      "metadata": {
        "id": "axcPfITcWa6x",
        "colab": {
          "base_uri": "https://localhost:8080/",
          "height": 312
        },
        "outputId": "f46688a9-7e86-4a9d-f812-43b98e072eda"
      },
      "source": [
        "plt.figure(\"Value of J during Gradient Descent\")\r\n",
        "plt.title('Value of J during Gradient Descent')\r\n",
        "x_axis = range(len(J_history))\r\n",
        "plt.xlabel('No. of iterations or Epochs')\r\n",
        "plt.ylabel(\"Cost function J\")\r\n",
        "plt.plot(x_axis,J_history)"
      ],
      "execution_count": null,
      "outputs": [
        {
          "output_type": "execute_result",
          "data": {
            "text/plain": [
              "[<matplotlib.lines.Line2D at 0x7f90adf0abd0>]"
            ]
          },
          "metadata": {
            "tags": []
          },
          "execution_count": 522
        },
        {
          "output_type": "display_data",
          "data": {
            "image/png": "[encoded data removed]",
            "text/plain": [
              "<Figure size 432x288 with 1 Axes>"
            ]
          },
          "metadata": {
            "tags": [],
            "needs_background": "light"
          }
        }
      ]
    },
    {
      "cell_type": "markdown",
      "metadata": {
        "id": "nskBDR1GW494"
      },
      "source": [
        "Estimate the price of a 1650 sq-ft, 3 br house\r\n",
        "\r\n"
      ]
    },
    {
      "cell_type": "code",
      "metadata": {
        "id": "pVV6u97QW4aZ",
        "colab": {
          "base_uri": "https://localhost:8080/"
        },
        "outputId": "a8566740-2b87-4b27-92b6-d1375143a478"
      },
      "source": [
        "predict_input = np.array([1650,3])\r\n",
        "predict_input = predict_input.reshape(1,predict_input.shape[0])\r\n",
        "\r\n",
        "print(f\"Predicted Price of a 1650 sq-ft, 3 bedroom house: {predict(predict_input,minimized_theta,mu,sigma)}\")"
      ],
      "execution_count": null,
      "outputs": [
        {
          "output_type": "stream",
          "text": [
            "Predicted Price of a 1650 sq-ft, 3 bedroom house: [[293081.89924482]]\n"
          ],
          "name": "stdout"
        }
      ]
    }
  ]
}