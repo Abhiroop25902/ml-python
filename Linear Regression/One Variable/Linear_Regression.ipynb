{
  "nbformat": 4,
  "nbformat_minor": 0,
  "metadata": {
    "colab": {
      "name": "Linear Regression.ipynb",
      "provenance": [],
      "include_colab_link": true
    },
    "kernelspec": {
      "name": "python3",
      "display_name": "Python 3",
      "language": "python"
    },
    "accelerator": "GPU"
  },
  "cells": [
    {
      "cell_type": "markdown",
      "metadata": {
        "id": "view-in-github",
        "colab_type": "text"
      },
      "source": [
        "<a href=\"https://colab.research.google.com/github/Abhiroop25902/ml-python/blob/main/Linear%20Regression/One%20Variable/Linear_Regression.ipynb\" target=\"_parent\"><img src=\"https://colab.research.google.com/assets/colab-badge.svg\" alt=\"Open In Colab\"/></a>"
      ]
    },
    {
      "cell_type": "code",
      "metadata": {
        "id": "XS1Z478h9WNM"
      },
      "source": [
        "import numpy as np\r\n",
        "import matplotlib.pyplot as plt\r\n",
        "import time"
      ],
      "execution_count": null,
      "outputs": []
    },
    {
      "cell_type": "markdown",
      "metadata": {
        "id": "f3l5IUhwRHNZ"
      },
      "source": [
        "## Hypothesis function\r\n",
        "\r\n",
        "Outputs Y, Given X, by parameter &theta;\r\n",
        "\r\n",
        "1. In Simple Definition:\r\n",
        "\r\n",
        "![](https://github.com/Abhiroop25902/ml-python/blob/main/Linear%20Regression/One%20Variable/Sources/hypothesis_equation.png?raw=1)\r\n",
        "\r\n",
        "2. In Vector Form:\r\n",
        "\r\n",
        "![](https://github.com/Abhiroop25902/ml-python/blob/main/Linear%20Regression/One%20Variable/Sources/matrix_hypothesis.png?raw=1)\r\n",
        "\r\n",
        "-   m -> number of elements in the dataset\r\n",
        "-   X -> mx2 matrix\r\n",
        "-   &theta; -> 2x1 matrix\r\n",
        "-   m -> dataset size\r\n",
        "-   Outputs mx2 matrix\r\n",
        "\r\n",
        "Vector Form is implemented here for faster Operation\r\n",
        "\r\n",
        "\r\n"
      ]
    },
    {
      "cell_type": "code",
      "metadata": {
        "id": "TA_QPYgR9XzD"
      },
      "source": [
        "def hypothesis(x, theta):\r\n",
        "    '''calculates the hypothesis function'''\r\n",
        "    return np.matmul(x, theta)"
      ],
      "execution_count": null,
      "outputs": []
    },
    {
      "cell_type": "markdown",
      "metadata": {
        "id": "OZxdmqDTR1D1"
      },
      "source": [
        "## Cost Function\r\n",
        "\r\n",
        "This essentially calculates the distance between what we need the line to be, and what it actually is:\r\n",
        "\r\n",
        "\r\n",
        "1. Definition:\r\n",
        "    -   m -> number of elements in the dataset\r\n",
        "    -   x<sup>(i)</sup> -> value of x in i<sup>th</sup> data point\r\n",
        "    -   y<sup>(i)</sup> -> value of y in i<sup>th</sup> data point\r\n",
        "\r\n",
        "![](https://github.com/Abhiroop25902/ml-python/blob/main/Linear%20Regression/One%20Variable/Sources/cost_function_equation.jpg?raw=1)\r\n",
        "\r\n",
        "2. Vector Form for faster implementation\r\n",
        "    -   m -> number of elements in the dataset\r\n",
        "    -   h(&theta;, X) and Y -> mx1 matrix\r\n",
        "    -   Outputs 1x1 matrix\r\n",
        "\r\n",
        "![](https://github.com/Abhiroop25902/ml-python/blob/main/Linear%20Regression/One%20Variable/Sources/cost_function_matrix.jpg?raw=1)"
      ]
    },
    {
      "cell_type": "code",
      "metadata": {
        "id": "7SDFhVRE9Y2N"
      },
      "source": [
        "def compute_cost(x, y, theta):\r\n",
        "    '''outputs the cost function'''\r\n",
        "    m = len(y)\r\n",
        "    error = hypothesis(x, theta) - y\r\n",
        "    error_square_summed = np.matmul(np.transpose(error), error)\r\n",
        "    return 1/(2*m)*error_square_summed"
      ],
      "execution_count": null,
      "outputs": []
    },
    {
      "cell_type": "markdown",
      "metadata": {
        "id": "TaMrNg2ZTNwB"
      },
      "source": [
        "## Gradient Descent\r\n",
        "\r\n",
        "Gradient Descent is an iterative way through which we can minimize the cost function J(&theta;,x), which essentially depends on the values of &theta;<sub>0</sub> and &theta;<sub>1</sub>\r\n",
        "\r\n",
        "Gradient Descent is implemented as follows:\r\n",
        "\r\n",
        "![](https://github.com/Abhiroop25902/ml-python/blob/main/Linear%20Regression/One%20Variable/Sources/gradient_descent.jpg?raw=1)\r\n",
        "\r\n",
        "where\r\n",
        "\r\n",
        "1.  &alpha; -> a constant, also called learning rate of algorithm\r\n",
        "2.  &theta;<sub>j</sub> -> j<sup>th</sup> value of &theta;\r\n",
        "3.  J( &theta;<sub>0</sub> , &theta;<sub>1</sub> ) -> The Cost Function\r\n",
        "\r\n",
        "This algorithm iteratively minimizes J(&theta; ,x) to reach it's minimum possible value\r\n",
        "\r\n",
        "- Vector Implementation to speed up Algorithm: \r\n",
        "    -   m -> dataset size\r\n",
        "    -   X -> mx2 matrix\r\n",
        "    -   h(&theta;, X) and Y -> mx1 matrix\r\n",
        "\r\n",
        "![](https://github.com/Abhiroop25902/ml-python/blob/main/Linear%20Regression/One%20Variable/Sources/gradient_descent_matrix.jpg?raw=1)\r\n",
        "\r\n",
        "\r\n"
      ]
    },
    {
      "cell_type": "code",
      "metadata": {
        "id": "Pf-3GBGY9aG7"
      },
      "source": [
        "def gradient_descent(x, y, theta, alpha, num_iter):\r\n",
        "    '''Performs Gradient Descent and outputs minimized theta and history of cost_functions'''\r\n",
        "    m = len(y)\r\n",
        "    J_history = np.zeros((num_iter, 1))\r\n",
        "\r\n",
        "    for iter in range(num_iter):\r\n",
        "        h = hypothesis(x, theta)\r\n",
        "        error = h-y\r\n",
        "        partial_derivative = 1/m * np.matmul(np.transpose(x), error)\r\n",
        "        theta = theta - alpha*partial_derivative\r\n",
        "\r\n",
        "        J_history[iter] = compute_cost(x, y, theta)\r\n",
        "\r\n",
        "    return theta, J_history"
      ],
      "execution_count": null,
      "outputs": []
    },
    {
      "cell_type": "markdown",
      "metadata": {
        "id": "DPJsLfqsT7dn"
      },
      "source": [
        "#Predict \r\n",
        " \r\n",
        " uses hypothesis() to predict value of new input"
      ]
    },
    {
      "cell_type": "code",
      "metadata": {
        "id": "OLJ8t9oo9cSr"
      },
      "source": [
        "def predict(value, theta):\r\n",
        "    x_array = [1, value]\r\n",
        "    return hypothesis(x_array,theta)"
      ],
      "execution_count": null,
      "outputs": []
    },
    {
      "cell_type": "markdown",
      "metadata": {
        "id": "e0J0HCqGUb-c"
      },
      "source": [
        "# Processing\r\n",
        "Loading Data from ex1data1.txt\r\n",
        "\r\n",
        "In each line, first value is 'Population of City in 10,000s' and second value is 'Profit in $10,000s'"
      ]
    },
    {
      "cell_type": "code",
      "metadata": {
        "id": "3xf5-zeBNwlD"
      },
      "source": [
        "data_path = \"./ex1data1.txt\"\r\n",
        "data = np.loadtxt(data_path, delimiter=',')"
      ],
      "execution_count": null,
      "outputs": []
    },
    {
      "cell_type": "markdown",
      "metadata": {
        "id": "HQs8_rDkUweS"
      },
      "source": [
        "Extracting Poulation and Profits from data"
      ]
    },
    {
      "cell_type": "code",
      "metadata": {
        "id": "RbaWL3HnUrWT"
      },
      "source": [
        "# first value is independent variable x, second is dependant y\r\n",
        "independent_x = data[:, 0]\r\n",
        "dependant_y = data[:, 1]"
      ],
      "execution_count": null,
      "outputs": []
    },
    {
      "cell_type": "markdown",
      "metadata": {
        "id": "l99tLCfxVbtZ"
      },
      "source": [
        "Plotting the scatterplot of data"
      ]
    },
    {
      "cell_type": "code",
      "metadata": {
        "id": "PzWrZUOzVa0c",
        "colab": {
          "base_uri": "https://localhost:8080/",
          "height": 346
        },
        "outputId": "f2e4f3be-54d0-41c4-c96e-ef77bba9ece1"
      },
      "source": [
        "# showing data\r\n",
        "print(\"Plotting Data ...\\n\")\r\n",
        "plt.figure(\"Scatter Plot Visualization of Data\")\r\n",
        "plt.title(\"Scatter Plot Visualization of Data\")\r\n",
        "plt.scatter(independent_x, dependant_y, marker=\"x\", c=\"r\")\r\n",
        "plt.ylabel('Profit in $10,000s')\r\n",
        "plt.xlabel('Population of City in 10,000s')"
      ],
      "execution_count": null,
      "outputs": [
        {
          "output_type": "stream",
          "text": [
            "Plotting Data ...\n",
            "\n"
          ],
          "name": "stdout"
        },
        {
          "output_type": "execute_result",
          "data": {
            "text/plain": [
              "Text(0.5, 0, 'Population of City in 10,000s')"
            ]
          },
          "metadata": {
            "tags": []
          },
          "execution_count": 30
        },
        {
          "output_type": "display_data",
          "data": {
            "image/png": "[encoded data removed]",
            "text/plain": [
              "<Figure size 432x288 with 1 Axes>"
            ]
          },
          "metadata": {
            "tags": [],
            "needs_background": "light"
          }
        }
      ]
    },
    {
      "cell_type": "markdown",
      "metadata": {
        "id": "xcv38MKfVuyq"
      },
      "source": [
        "converting x and y in matrix form"
      ]
    },
    {
      "cell_type": "code",
      "metadata": {
        "id": "Ad7LcfeqVky7"
      },
      "source": [
        "# as we are going to use matrix multiplication, we need x as first column 1, second column values\r\n",
        "dataset_size = independent_x.shape[0]\r\n",
        "ones = np.ones(dataset_size)\r\n",
        "x = np.stack((ones, independent_x), axis=1)\r\n",
        "\r\n",
        "# also converting y in vector form to matrix form\r\n",
        "y = dependant_y.reshape(len(dependant_y), 1)"
      ],
      "execution_count": null,
      "outputs": []
    },
    {
      "cell_type": "markdown",
      "metadata": {
        "id": "-GRPAn8CWFpa"
      },
      "source": [
        "Testing hypothesis and cost function"
      ]
    },
    {
      "cell_type": "code",
      "metadata": {
        "id": "RM8u9dcfV2na",
        "colab": {
          "base_uri": "https://localhost:8080/"
        },
        "outputId": "3aab437d-9c20-4206-fd2c-ce753a0e4c23"
      },
      "source": [
        "# initializing theta\r\n",
        "theta = np.zeros((2, 1))\r\n",
        "alpha = 0.01\r\n",
        "num_iter = 1500\r\n",
        "\r\n",
        "print(\"Testing the cost function ...\")\r\n",
        "print(f\"with theta = [[0],[0]] \\nCost computed = {compute_cost(x,y,theta)}\")\r\n",
        "print(\"Expected cost value (approx) 32.07\\n\")\r\n",
        "\r\n",
        "print(f\"with theta = [[-1],[2]] \\nCost computed = {compute_cost(x,y,[[-1],[2]])}\")\r\n",
        "print(\"Expected cost value (approx) 54.24\\n\")"
      ],
      "execution_count": null,
      "outputs": [
        {
          "output_type": "stream",
          "text": [
            "Testing the cost function ...\n",
            "with theta = [[0],[0]] \n",
            "Cost computed = [[32.07273388]]\n",
            "Expected cost value (approx) 32.07\n",
            "\n",
            "with theta = [[-1],[2]] \n",
            "Cost computed = [[54.24245508]]\n",
            "Expected cost value (approx) 54.24\n",
            "\n"
          ],
          "name": "stdout"
        }
      ]
    },
    {
      "cell_type": "markdown",
      "metadata": {
        "id": "IudQt6i-WTdB"
      },
      "source": [
        "Running Gradient Descent"
      ]
    },
    {
      "cell_type": "code",
      "metadata": {
        "id": "k-UxmwVwWM3K",
        "colab": {
          "base_uri": "https://localhost:8080/"
        },
        "outputId": "181089b7-ca0a-433c-d715-3a9541e8f73e"
      },
      "source": [
        "print(\"Running Gradient Descent ...\\n\")\r\n",
        "minimized_theta, J_history = gradient_descent(x, y, theta, alpha, num_iter)"
      ],
      "execution_count": null,
      "outputs": [
        {
          "output_type": "stream",
          "text": [
            "Running Gradient Descent ...\n",
            "\n"
          ],
          "name": "stdout"
        }
      ]
    },
    {
      "cell_type": "markdown",
      "metadata": {
        "id": "LSepBauvWcOx"
      },
      "source": [
        "Plotting Value of J during Gradient Descent (This should Decrease with Epochs)"
      ]
    },
    {
      "cell_type": "code",
      "metadata": {
        "id": "axcPfITcWa6x",
        "colab": {
          "base_uri": "https://localhost:8080/",
          "height": 312
        },
        "outputId": "b25dd393-2cba-4371-cb6c-c5cedfe4f69e"
      },
      "source": [
        "plt.figure(\"Value of J during Gradient Descent\")\r\n",
        "plt.title('Value of J during Gradient Descent')\r\n",
        "x_axis = range(len(J_history))\r\n",
        "plt.xlabel('No. of iterations or Epochs')\r\n",
        "plt.ylabel(\"Cost function J\")\r\n",
        "plt.plot(x_axis,J_history)"
      ],
      "execution_count": null,
      "outputs": [
        {
          "output_type": "execute_result",
          "data": {
            "text/plain": [
              "[<matplotlib.lines.Line2D at 0x7f9ae0326310>]"
            ]
          },
          "metadata": {
            "tags": []
          },
          "execution_count": 34
        },
        {
          "output_type": "display_data",
          "data": {
            "image/png": "[encoded data removed]",
            "text/plain": [
              "<Figure size 432x288 with 1 Axes>"
            ]
          },
          "metadata": {
            "tags": [],
            "needs_background": "light"
          }
        }
      ]
    },
    {
      "cell_type": "markdown",
      "metadata": {
        "id": "U3y2xA4TWzoi"
      },
      "source": [
        "Minimised Theta"
      ]
    },
    {
      "cell_type": "code",
      "metadata": {
        "id": "AJerwdB-Wt8S",
        "colab": {
          "base_uri": "https://localhost:8080/"
        },
        "outputId": "2e7e7214-236d-4bce-8916-90c31eb3910b"
      },
      "source": [
        "print(\"Theta found by gradient descent:\")\r\n",
        "print(minimized_theta)\r\n",
        "print(\"Expected theta values (approx)\")\r\n",
        "print(\"  3.6303\\n  1.1664\\n\")"
      ],
      "execution_count": null,
      "outputs": [
        {
          "output_type": "stream",
          "text": [
            "Theta found by gradient descent:\n",
            "[[-3.63029144]\n",
            " [ 1.16636235]]\n",
            "Expected theta values (approx)\n",
            "  3.6303\n",
            "  1.1664\n",
            "\n"
          ],
          "name": "stdout"
        }
      ]
    },
    {
      "cell_type": "markdown",
      "metadata": {
        "id": "nskBDR1GW494"
      },
      "source": [
        "Predicting Value for New Input"
      ]
    },
    {
      "cell_type": "code",
      "metadata": {
        "id": "pVV6u97QW4aZ",
        "colab": {
          "base_uri": "https://localhost:8080/"
        },
        "outputId": "1780f3d3-fc5a-4278-b36e-063a390922c8"
      },
      "source": [
        "print(f\"For population = 35,000, we predict a profit of {predict(3.5, minimized_theta)*10000}\")\r\n",
        "print(f\"For population = 70,000, we predict a profit of {predict(7, minimized_theta)*10000}\")"
      ],
      "execution_count": null,
      "outputs": [
        {
          "output_type": "stream",
          "text": [
            "For population = 35,000, we predict a profit of [4519.7678677]\n",
            "For population = 70,000, we predict a profit of [45342.45012945]\n"
          ],
          "name": "stdout"
        }
      ]
    },
    {
      "cell_type": "markdown",
      "metadata": {
        "id": "fYnZRAK7XBoi"
      },
      "source": [
        "Plotting Scatterplot and Hypothesis Line"
      ]
    },
    {
      "cell_type": "code",
      "metadata": {
        "id": "kO93t52sXAoD",
        "colab": {
          "base_uri": "https://localhost:8080/",
          "height": 295
        },
        "outputId": "daf0554d-b57a-4e45-d617-3779bcaf8ac9"
      },
      "source": [
        "plt.figure(\"Linear Regression Result\")\r\n",
        "plt.title(\"Linear Regression Result\")\r\n",
        "plt.scatter(independent_x, dependant_y, marker=\"x\", c=\"r\")\r\n",
        "plt.plot(x[:, 1], hypothesis(x, minimized_theta))\r\n",
        "plt.ylabel('Profit in $10,000s')\r\n",
        "plt.xlabel('Population of City in 10,000s')\r\n",
        "plt.show()"
      ],
      "execution_count": null,
      "outputs": [
        {
          "output_type": "display_data",
          "data": {
            "image/png": "[encoded data removed]",
            "text/plain": [
              "<Figure size 432x288 with 1 Axes>"
            ]
          },
          "metadata": {
            "tags": [],
            "needs_background": "light"
          }
        }
      ]
    }
  ]
}